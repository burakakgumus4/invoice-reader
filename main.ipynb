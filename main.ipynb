{
 "cells": [
  {
   "cell_type": "code",
   "execution_count": 1,
   "metadata": {},
   "outputs": [],
   "source": [
    "%load_ext autoreload\n",
    "%autoreload 2\n"
   ]
  },
  {
   "cell_type": "code",
   "execution_count": 2,
   "metadata": {},
   "outputs": [],
   "source": [
    "from IPython.display import clear_output, display"
   ]
  },
  {
   "cell_type": "code",
   "execution_count": 3,
   "metadata": {},
   "outputs": [],
   "source": [
    "import os\n",
    "import torch\n",
    "import numpy as np\n",
    "import cv2\n",
    "from PIL import Image\n",
    "import matplotlib.pyplot as plt\n",
    "from fpdf import FPDF\n",
    "import os\n",
    "import json\n",
    "import re\n",
    "\n",
    "from utils.pdf_process import load_all_pdf_bytes_from_directory, structure_pdf_images"
   ]
  },
  {
   "cell_type": "code",
   "execution_count": null,
   "metadata": {},
   "outputs": [],
   "source": [
    "from models.paddle_ocr import Paddle"
   ]
  },
  {
   "cell_type": "code",
   "execution_count": 5,
   "metadata": {},
   "outputs": [],
   "source": [
    "paddle = Paddle()"
   ]
  },
  {
   "cell_type": "code",
   "execution_count": 6,
   "metadata": {},
   "outputs": [
    {
     "name": "stdout",
     "output_type": "stream",
     "text": [
      "3 amount PDF found:\n",
      "📄 20250221092842541.pdf\n",
      "📄 20250221125114588.pdf\n",
      "📄 Invoice_2.pdf\n"
     ]
    }
   ],
   "source": [
    "pdfs = load_all_pdf_bytes_from_directory(\"demo\")\n",
    "print(f\"{len(pdfs)} amount PDF found:\")\n",
    "for name in pdfs.keys():\n",
    "    print(\"📄\", name)"
   ]
  },
  {
   "cell_type": "code",
   "execution_count": 7,
   "metadata": {},
   "outputs": [
    {
     "name": "stdout",
     "output_type": "stream",
     "text": [
      "📄 20250221092842541.pdf → 2 page\n",
      "📄 20250221125114588.pdf → 8 page\n",
      "📄 Invoice_2.pdf → 5 page\n"
     ]
    }
   ],
   "source": [
    "pdf_structured_data = structure_pdf_images(pdfs)\n",
    "for name, meta in pdf_structured_data.items():\n",
    "    print(f\"📄 {meta['filename']} → {meta['num_pages']} page\")"
   ]
  },
  {
   "cell_type": "code",
   "execution_count": 8,
   "metadata": {},
   "outputs": [
    {
     "name": "stdout",
     "output_type": "stream",
     "text": [
      "📄 20250221092842541.pdf Begin OCR process...\n",
      "📄 20250221125114588.pdf Begin OCR process...\n",
      "📄 Invoice_2.pdf Begin OCR process...\n"
     ]
    }
   ],
   "source": [
    "for pdf_name, meta in pdf_structured_data.items():\n",
    "    ocr_pages = []\n",
    "    print(f\"📄 {pdf_name} Begin OCR process...\")\n",
    "\n",
    "    for i, img in enumerate(meta[\"pages\"]):\n",
    "        _, ocr_result = paddle.perform_ocr(img, visualize=False, class_format=True)\n",
    "        ocr_pages.append({\n",
    "            \"page\": i + 1,\n",
    "            \"texts\": ocr_result.texts,\n",
    "            \"boxes\": ocr_result.boxes,\n",
    "            \"scores\": ocr_result.scores\n",
    "        })\n",
    "\n",
    "\n",
    "    meta[\"ocr_results\"] = ocr_pages"
   ]
  },
  {
   "cell_type": "code",
   "execution_count": 9,
   "metadata": {},
   "outputs": [],
   "source": [
    "from models.claude import ClaudeParser"
   ]
  },
  {
   "cell_type": "code",
   "execution_count": null,
   "metadata": {},
   "outputs": [],
   "source": [
    "def load_api_key(file_path=\"api_key.txt\"):\n",
    "    if not os.path.exists(file_path):\n",
    "        raise FileNotFoundError(f\"API key file '{file_path}' not found.\")\n",
    "    with open(file_path, \"r\", encoding=\"utf-8\") as f:\n",
    "        return f.read().strip()\n",
    "\n",
    "api_key = load_api_key()"
   ]
  },
  {
   "cell_type": "code",
   "execution_count": null,
   "metadata": {},
   "outputs": [],
   "source": [
    "claude = ClaudeParser(api_key=api_key)"
   ]
  },
  {
   "cell_type": "code",
   "execution_count": 11,
   "metadata": {},
   "outputs": [
    {
     "name": "stdout",
     "output_type": "stream",
     "text": [
      "20250221092842541.pdf → Saved Claude JSON to output\\20250221092842541.pdf_claude_output.json\n",
      "20250221125114588.pdf → Saved Claude JSON to output\\20250221125114588.pdf_claude_output.json\n",
      "Invoice_2.pdf → Saved Claude JSON to output\\Invoice_2.pdf_claude_output.json\n"
     ]
    }
   ],
   "source": [
    "for pdf_name, meta in pdf_structured_data.items():\n",
    "    all_texts = []\n",
    "    for page in meta[\"ocr_results\"]:\n",
    "        all_texts.extend(page[\"texts\"])\n",
    "\n",
    "    result_json = claude.ask(all_texts)\n",
    "\n",
    "    output_path = os.path.join(\"output\", f\"{pdf_name}_claude_output.json\")\n",
    "    with open(output_path, \"w\", encoding=\"utf-8\") as f:\n",
    "        json.dump(result_json, f, indent=2, ensure_ascii=False)\n",
    "\n",
    "    print(f\"{pdf_name} → Saved Claude JSON to {output_path}\")"
   ]
  }
 ],
 "metadata": {
  "kernelspec": {
   "display_name": ".venv",
   "language": "python",
   "name": "python3"
  },
  "language_info": {
   "codemirror_mode": {
    "name": "ipython",
    "version": 3
   },
   "file_extension": ".py",
   "mimetype": "text/x-python",
   "name": "python",
   "nbconvert_exporter": "python",
   "pygments_lexer": "ipython3",
   "version": "3.11.9"
  }
 },
 "nbformat": 4,
 "nbformat_minor": 2
}
